{
  "nbformat": 4,
  "nbformat_minor": 0,
  "metadata": {
    "colab": {
      "provenance": [],
      "authorship_tag": "ABX9TyPGaNLsDcBrGZXSo54FBLMG",
      "include_colab_link": true
    },
    "kernelspec": {
      "name": "python3",
      "display_name": "Python 3"
    },
    "language_info": {
      "name": "python"
    },
    "accelerator": "TPU"
  },
  "cells": [
    {
      "cell_type": "markdown",
      "metadata": {
        "id": "view-in-github",
        "colab_type": "text"
      },
      "source": [
        "<a href=\"https://colab.research.google.com/github/Playmaker3334/Neuronal_Network/blob/main/My_first_neural_network.ipynb\" target=\"_parent\"><img src=\"https://colab.research.google.com/assets/colab-badge.svg\" alt=\"Open In Colab\"/></a>"
      ]
    },
    {
      "cell_type": "code",
      "execution_count": 44,
      "metadata": {
        "id": "95ri0aFIWWFZ"
      },
      "outputs": [],
      "source": [
        "import tensorflow as tf\n",
        "import numpy as np"
      ]
    },
    {
      "cell_type": "code",
      "source": [
        "celsius = np.array([-40, -10, 0, 8, 15, 22, 38, 80, 200, 100, 55], dtype=float)\n",
        "fahrenheit = np.array([-40, 14, 32, 46, 59, 71.6, 100.4, 176, 392, 212, 131], dtype=float)"
      ],
      "metadata": {
        "id": "gVRCzEFsXUNy"
      },
      "execution_count": 45,
      "outputs": []
    },
    {
      "cell_type": "code",
      "source": [
        "Oculta1 = tf.keras.layers.Dense(units=3, input_shape=[1])\n",
        "Oculta2 = tf.keras.layers.Dense(units=3)\n",
        "Salida = tf.keras.layers.Dense(units=1)\n",
        "modelo = tf.keras.Sequential([Oculta1, Oculta2, Salida])"
      ],
      "metadata": {
        "id": "0-13zNKPbHbi"
      },
      "execution_count": 46,
      "outputs": []
    },
    {
      "cell_type": "code",
      "source": [
        "modelo.compile(\n",
        "    optimizer=tf.keras.optimizers.Adam(0.1),\n",
        "    loss='mean_squared_error'\n",
        ")"
      ],
      "metadata": {
        "id": "TuKV_TdycuxA"
      },
      "execution_count": 47,
      "outputs": []
    },
    {
      "cell_type": "code",
      "source": [
        "print('Starting...')\n",
        "historial = modelo.fit(celsius, fahrenheit, epochs=1000, verbose=False)\n",
        "print(\"Trained model\")"
      ],
      "metadata": {
        "colab": {
          "base_uri": "https://localhost:8080/"
        },
        "id": "w9qXkS9cdvRO",
        "outputId": "edd536cf-23a4-4dd7-cacb-31a19d7cf27c"
      },
      "execution_count": 48,
      "outputs": [
        {
          "output_type": "stream",
          "name": "stdout",
          "text": [
            "Starting...\n",
            "Trained model\n"
          ]
        }
      ]
    },
    {
      "cell_type": "code",
      "source": [
        "import matplotlib.pyplot as plt\n",
        "plt.xlabel('# Epoca')\n",
        "plt.ylabel('Magnitud de perdida')\n",
        "plt.plot(historial.history['loss'])"
      ],
      "metadata": {
        "colab": {
          "base_uri": "https://localhost:8080/",
          "height": 466
        },
        "id": "BdW61dKfh0uO",
        "outputId": "3d32d3f8-17df-4bd1-85c9-1c754cfabef3"
      },
      "execution_count": 49,
      "outputs": [
        {
          "output_type": "execute_result",
          "data": {
            "text/plain": [
              "[<matplotlib.lines.Line2D at 0x7f339c315d80>]"
            ]
          },
          "metadata": {},
          "execution_count": 49
        },
        {
          "output_type": "display_data",
          "data": {
            "text/plain": [
              "<Figure size 640x480 with 1 Axes>"
            ],
            "image/png": "[encoded data removed]"
          },
          "metadata": {}
        }
      ]
    },
    {
      "cell_type": "code",
      "source": [
        "print('let\\'s make a prediction')\n",
        "celsius = float(input('Give me the number of grades: '))\n",
        "result = modelo.predict([celsius])\n",
        "print(f'The result is {result} Farenheit')"
      ],
      "metadata": {
        "colab": {
          "base_uri": "https://localhost:8080/"
        },
        "id": "853TNw6ii7o-",
        "outputId": "a482f1f1-d81c-4251-bb13-2ee4f61c2a98"
      },
      "execution_count": 51,
      "outputs": [
        {
          "output_type": "stream",
          "name": "stdout",
          "text": [
            "let's make a prediction\n",
            "Give me the number of grades: 100\n",
            "1/1 [==============================] - 0s 39ms/step\n",
            "The result is [[211.9819]] Farenheit\n"
          ]
        }
      ]
    }
  ]
}